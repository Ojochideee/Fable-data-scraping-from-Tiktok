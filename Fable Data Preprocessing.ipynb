{
 "cells": [
  {
   "cell_type": "code",
   "execution_count": 1,
   "id": "d1155589-2a41-45ff-b3d4-94e3ff665e8c",
   "metadata": {},
   "outputs": [
    {
     "name": "stdout",
     "output_type": "stream",
     "text": [
      "Requirement already satisfied: matplotlib in /opt/anaconda3/envs/fable/lib/python3.12/site-packages (3.10.3)\n",
      "Requirement already satisfied: contourpy>=1.0.1 in /opt/anaconda3/envs/fable/lib/python3.12/site-packages (from matplotlib) (1.3.2)\n",
      "Requirement already satisfied: cycler>=0.10 in /opt/anaconda3/envs/fable/lib/python3.12/site-packages (from matplotlib) (0.12.1)\n",
      "Requirement already satisfied: fonttools>=4.22.0 in /opt/anaconda3/envs/fable/lib/python3.12/site-packages (from matplotlib) (4.58.0)\n",
      "Requirement already satisfied: kiwisolver>=1.3.1 in /opt/anaconda3/envs/fable/lib/python3.12/site-packages (from matplotlib) (1.4.8)\n",
      "Requirement already satisfied: numpy>=1.23 in /opt/anaconda3/envs/fable/lib/python3.12/site-packages (from matplotlib) (2.2.5)\n",
      "Requirement already satisfied: packaging>=20.0 in /opt/anaconda3/envs/fable/lib/python3.12/site-packages (from matplotlib) (24.2)\n",
      "Requirement already satisfied: pillow>=8 in /opt/anaconda3/envs/fable/lib/python3.12/site-packages (from matplotlib) (11.2.1)\n",
      "Requirement already satisfied: pyparsing>=2.3.1 in /opt/anaconda3/envs/fable/lib/python3.12/site-packages (from matplotlib) (3.2.3)\n",
      "Requirement already satisfied: python-dateutil>=2.7 in /opt/anaconda3/envs/fable/lib/python3.12/site-packages (from matplotlib) (2.9.0.post0)\n",
      "Requirement already satisfied: six>=1.5 in /opt/anaconda3/envs/fable/lib/python3.12/site-packages (from python-dateutil>=2.7->matplotlib) (1.17.0)\n"
     ]
    }
   ],
   "source": [
    "!pip install matplotlib"
   ]
  },
  {
   "cell_type": "code",
   "execution_count": 2,
   "id": "4e40eb43-72ce-457a-96b1-864d2d932736",
   "metadata": {},
   "outputs": [],
   "source": [
    "import pandas as pd\n",
    "import numpy as np\n",
    "import matplotlib as plt"
   ]
  },
  {
   "cell_type": "code",
   "execution_count": 3,
   "id": "f0ffe2e4-aa2a-4bcf-98f3-fcd8be3b3da2",
   "metadata": {},
   "outputs": [],
   "source": [
    "df = pd.read_csv(\"dataset_free-tiktok-scraper_2025-05-12_19-19-34-635.csv\")"
   ]
  },
  {
   "cell_type": "markdown",
   "id": "8da50787-e551-4d54-bde7-6747d57f09c5",
   "metadata": {},
   "source": [
    "DATA PREPARATION"
   ]
  },
  {
   "cell_type": "code",
   "execution_count": 4,
   "id": "3e7948ff-b118-4366-8953-8d4b96a29af1",
   "metadata": {},
   "outputs": [
    {
     "name": "stdout",
     "output_type": "stream",
     "text": [
      "<class 'pandas.core.frame.DataFrame'>\n",
      "RangeIndex: 443 entries, 0 to 442\n",
      "Columns: 770 entries, authorMeta/avatar to webVideoUrl\n",
      "dtypes: bool(8), float64(145), int64(18), object(599)\n",
      "memory usage: 2.6+ MB\n"
     ]
    }
   ],
   "source": [
    "df.info()"
   ]
  },
  {
   "cell_type": "code",
   "execution_count": 5,
   "id": "613839c2-bca9-46f6-8122-2d3a1cde4faf",
   "metadata": {},
   "outputs": [
    {
     "data": {
      "text/plain": [
       "Index(['authorMeta/avatar', 'authorMeta/bioLink', 'authorMeta/digg',\n",
       "       'authorMeta/fans', 'authorMeta/following', 'authorMeta/friends',\n",
       "       'authorMeta/heart', 'authorMeta/id', 'authorMeta/name',\n",
       "       'authorMeta/nickName',\n",
       "       ...\n",
       "       'videoMeta/subtitleLinks/64/tiktokLink',\n",
       "       'videoMeta/subtitleLinks/64/version',\n",
       "       'videoMeta/subtitleLinks/65/downloadLink',\n",
       "       'videoMeta/subtitleLinks/65/language',\n",
       "       'videoMeta/subtitleLinks/65/source',\n",
       "       'videoMeta/subtitleLinks/65/sourceUnabbreviated',\n",
       "       'videoMeta/subtitleLinks/65/tiktokLink',\n",
       "       'videoMeta/subtitleLinks/65/version', 'videoMeta/width', 'webVideoUrl'],\n",
       "      dtype='object', length=770)"
      ]
     },
     "execution_count": 5,
     "metadata": {},
     "output_type": "execute_result"
    }
   ],
   "source": [
    "df.columns"
   ]
  },
  {
   "cell_type": "code",
   "execution_count": 6,
   "id": "f614d46d-cc44-4497-9b1a-0c1520d63425",
   "metadata": {},
   "outputs": [],
   "source": [
    "# Merge all hashtags columns into one\n",
    "hashtag_cols = [col for col in df.columns if col.startswith('hashtags/') and col.endswith('/name')]"
   ]
  },
  {
   "cell_type": "code",
   "execution_count": 7,
   "id": "971ecd7f-a3ac-4231-b3d0-022c3afa49a9",
   "metadata": {},
   "outputs": [],
   "source": [
    "df['hashtags'] = df[hashtag_cols].astype(str).agg(', '.join, axis=1)"
   ]
  },
  {
   "cell_type": "code",
   "execution_count": 8,
   "id": "70bb5261-c0eb-44db-801c-b8606c4e598a",
   "metadata": {},
   "outputs": [],
   "source": [
    "# Delete hashtag columns afer merging\n",
    "df.drop(columns=hashtag_cols, inplace=True)"
   ]
  },
  {
   "cell_type": "code",
   "execution_count": 9,
   "id": "d6d4ae37-3325-486a-a356-17900bdaa347",
   "metadata": {},
   "outputs": [],
   "source": [
    "# Remove columns with missing values\n",
    "df_cleaned = df.dropna(axis=1)"
   ]
  },
  {
   "cell_type": "code",
   "execution_count": 10,
   "id": "eaf4d163-8188-4a9c-b304-47f9778caef3",
   "metadata": {},
   "outputs": [
    {
     "name": "stdout",
     "output_type": "stream",
     "text": [
      "<class 'pandas.core.frame.DataFrame'>\n",
      "RangeIndex: 443 entries, 0 to 442\n",
      "Data columns (total 43 columns):\n",
      " #   Column                            Non-Null Count  Dtype \n",
      "---  ------                            --------------  ----- \n",
      " 0   authorMeta/avatar                 443 non-null    object\n",
      " 1   authorMeta/digg                   443 non-null    int64 \n",
      " 2   authorMeta/fans                   443 non-null    int64 \n",
      " 3   authorMeta/following              443 non-null    int64 \n",
      " 4   authorMeta/friends                443 non-null    int64 \n",
      " 5   authorMeta/heart                  443 non-null    int64 \n",
      " 6   authorMeta/id                     443 non-null    int64 \n",
      " 7   authorMeta/name                   443 non-null    object\n",
      " 8   authorMeta/nickName               443 non-null    object\n",
      " 9   authorMeta/originalAvatarUrl      443 non-null    object\n",
      " 10  authorMeta/privateAccount         443 non-null    bool  \n",
      " 11  authorMeta/profileUrl             443 non-null    object\n",
      " 12  authorMeta/ttSeller               443 non-null    bool  \n",
      " 13  authorMeta/verified               443 non-null    bool  \n",
      " 14  authorMeta/video                  443 non-null    int64 \n",
      " 15  collectCount                      443 non-null    int64 \n",
      " 16  commentCount                      443 non-null    int64 \n",
      " 17  createTime                        443 non-null    int64 \n",
      " 18  createTimeISO                     443 non-null    object\n",
      " 19  diggCount                         443 non-null    int64 \n",
      " 20  id                                443 non-null    int64 \n",
      " 21  isAd                              443 non-null    bool  \n",
      " 22  isMuted                           443 non-null    bool  \n",
      " 23  isPinned                          443 non-null    bool  \n",
      " 24  isSlideshow                       443 non-null    bool  \n",
      " 25  musicMeta/coverMediumUrl          443 non-null    object\n",
      " 26  musicMeta/musicAuthor             443 non-null    object\n",
      " 27  musicMeta/musicId                 443 non-null    int64 \n",
      " 28  musicMeta/musicName               443 non-null    object\n",
      " 29  musicMeta/musicOriginal           443 non-null    bool  \n",
      " 30  musicMeta/originalCoverMediumUrl  443 non-null    object\n",
      " 31  playCount                         443 non-null    int64 \n",
      " 32  shareCount                        443 non-null    int64 \n",
      " 33  textLanguage                      443 non-null    object\n",
      " 34  videoMeta/coverUrl                443 non-null    object\n",
      " 35  videoMeta/definition              443 non-null    object\n",
      " 36  videoMeta/duration                443 non-null    int64 \n",
      " 37  videoMeta/format                  443 non-null    object\n",
      " 38  videoMeta/height                  443 non-null    int64 \n",
      " 39  videoMeta/originalCoverUrl        443 non-null    object\n",
      " 40  videoMeta/width                   443 non-null    int64 \n",
      " 41  webVideoUrl                       443 non-null    object\n",
      " 42  hashtags                          443 non-null    object\n",
      "dtypes: bool(8), int64(18), object(17)\n",
      "memory usage: 124.7+ KB\n"
     ]
    }
   ],
   "source": [
    "df_cleaned.info()"
   ]
  },
  {
   "cell_type": "code",
   "execution_count": 11,
   "id": "666dc009-a9fd-48ae-a3bf-da7ffe7d6508",
   "metadata": {},
   "outputs": [
    {
     "data": {
      "text/plain": [
       "0      greenscreensticker, bookreview, jodipicoult, s...\n",
       "1      nan, fablepartner, booktok, booklover, bookish...\n",
       "2      nan, fable, bookrecommendations, bookclubtikto...\n",
       "3      nan, booktracker, booktrackerapp, bookish, boo...\n",
       "4      booktok, books, bookish, goodreads, storygraph...\n",
       "                             ...                        \n",
       "438    nan, fable, goodreads, booktracker, booktok, k...\n",
       "439    nan, nan, nan, nan, nan, nan, nan, nan, nan, n...\n",
       "440    bookrecs, booktok, bookrecommendations, favori...\n",
       "441    nan, booktok, booktokgirlies, readers, fable, ...\n",
       "442    fable, fableapp, booktok, books, nan, nan, nan...\n",
       "Name: hashtags, Length: 443, dtype: object"
      ]
     },
     "execution_count": 11,
     "metadata": {},
     "output_type": "execute_result"
    }
   ],
   "source": [
    "df_cleaned['hashtags']"
   ]
  },
  {
   "cell_type": "code",
   "execution_count": 12,
   "id": "b88d4c18-ca33-4ddb-9d48-d8f6c6c7cfb2",
   "metadata": {},
   "outputs": [],
   "source": [
    "# Drop irrelevant columns \n",
    "columns_to_drop = [\n",
    "    'authorMeta/avatar',\n",
    "    'authorMeta/digg',\n",
    "    'authorMeta/following',\n",
    "    'authorMeta/friends',\n",
    "    'authorMeta/heart',\n",
    "    'authorMeta/id',\n",
    "    'authorMeta/nickName',\n",
    "    'authorMeta/originalAvatarUrl',\n",
    "    'authorMeta/profileUrl',\n",
    "    'authorMeta/ttSeller',\n",
    "    'authorMeta/video',\n",
    "    'createTime',\n",
    "    'id',\n",
    "    'isAd',\n",
    "    'isMuted',\n",
    "    'isPinned',\n",
    "    'isSlideshow',\n",
    "    'musicMeta/coverMediumUrl',\n",
    "    'musicMeta/musicAuthor',\n",
    "    'musicMeta/musicId',\n",
    "    'musicMeta/musicName',\n",
    "    'musicMeta/musicOriginal',\n",
    "    'musicMeta/originalCoverMediumUrl',\n",
    "    'videoMeta/coverUrl',\n",
    "    'videoMeta/definition',\n",
    "    'videoMeta/format',\n",
    "    'videoMeta/height',\n",
    "    'videoMeta/originalCoverUrl',\n",
    "    'videoMeta/width',\n",
    "    'webVideoUrl'\n",
    "]"
   ]
  },
  {
   "cell_type": "code",
   "execution_count": 13,
   "id": "83764aff-06d8-4eaf-91e6-5852aca7fab4",
   "metadata": {},
   "outputs": [],
   "source": [
    "df_cleaned = df_cleaned.drop(columns=columns_to_drop)"
   ]
  },
  {
   "cell_type": "raw",
   "id": "d93256d3-6d78-460f-8376-065e13a18a66",
   "metadata": {},
   "source": [
    "# Convert DATE FORMAT to readabe format"
   ]
  },
  {
   "cell_type": "code",
   "execution_count": 14,
   "id": "fc5bf1e5-8870-4644-b413-b22d5c6a0f5e",
   "metadata": {},
   "outputs": [
    {
     "name": "stdout",
     "output_type": "stream",
     "text": [
      "datetime64[ns, UTC]\n"
     ]
    }
   ],
   "source": [
    "df_cleaned = df_cleaned.copy()\n",
    "df_cleaned['createTimeISO'] = pd.to_datetime(df_cleaned['createTimeISO'], errors='coerce')\n",
    "print(df_cleaned['createTimeISO'].dtype)"
   ]
  },
  {
   "cell_type": "code",
   "execution_count": 15,
   "id": "14177b8b-c9da-45b4-b3b2-944d7c852b32",
   "metadata": {},
   "outputs": [],
   "source": [
    "# create new columns to help with analysis on DATETIME\n",
    "df_cleaned.loc[:, 'year'] = df_cleaned['createTimeISO'].dt.year\n",
    "df_cleaned.loc[:, 'month'] = df_cleaned['createTimeISO'].dt.month\n",
    "df_cleaned.loc[:, 'day'] = df_cleaned['createTimeISO'].dt.day\n",
    "df_cleaned.loc[:, 'weekday'] = df_cleaned['createTimeISO'].dt.day_name()\n",
    "df_cleaned.loc[:, 'hour'] = df_cleaned['createTimeISO'].dt.hour"
   ]
  },
  {
   "cell_type": "code",
   "execution_count": 16,
   "id": "39bc7a3c-6172-4427-939f-a1d8e8a3166e",
   "metadata": {},
   "outputs": [],
   "source": [
    "# Drop initial datetime format column\n",
    "df_cleaned = df_cleaned.drop(columns='createTimeISO')"
   ]
  },
  {
   "cell_type": "code",
   "execution_count": 17,
   "id": "3b0bd0da-ed17-4309-8b6d-3c6fc5e48148",
   "metadata": {},
   "outputs": [
    {
     "name": "stdout",
     "output_type": "stream",
     "text": [
      "<class 'pandas.core.frame.DataFrame'>\n",
      "RangeIndex: 443 entries, 0 to 442\n",
      "Data columns (total 17 columns):\n",
      " #   Column                     Non-Null Count  Dtype \n",
      "---  ------                     --------------  ----- \n",
      " 0   authorMeta/fans            443 non-null    int64 \n",
      " 1   authorMeta/name            443 non-null    object\n",
      " 2   authorMeta/privateAccount  443 non-null    bool  \n",
      " 3   authorMeta/verified        443 non-null    bool  \n",
      " 4   collectCount               443 non-null    int64 \n",
      " 5   commentCount               443 non-null    int64 \n",
      " 6   diggCount                  443 non-null    int64 \n",
      " 7   playCount                  443 non-null    int64 \n",
      " 8   shareCount                 443 non-null    int64 \n",
      " 9   textLanguage               443 non-null    object\n",
      " 10  videoMeta/duration         443 non-null    int64 \n",
      " 11  hashtags                   443 non-null    object\n",
      " 12  year                       443 non-null    int32 \n",
      " 13  month                      443 non-null    int32 \n",
      " 14  day                        443 non-null    int32 \n",
      " 15  weekday                    443 non-null    object\n",
      " 16  hour                       443 non-null    int32 \n",
      "dtypes: bool(2), int32(4), int64(7), object(4)\n",
      "memory usage: 46.0+ KB\n"
     ]
    }
   ],
   "source": [
    "df_cleaned.info()"
   ]
  }
 ],
 "metadata": {
  "kernelspec": {
   "display_name": "Python 3 (ipykernel)",
   "language": "python",
   "name": "python3"
  },
  "language_info": {
   "codemirror_mode": {
    "name": "ipython",
    "version": 3
   },
   "file_extension": ".py",
   "mimetype": "text/x-python",
   "name": "python",
   "nbconvert_exporter": "python",
   "pygments_lexer": "ipython3",
   "version": "3.12.9"
  }
 },
 "nbformat": 4,
 "nbformat_minor": 5
}
